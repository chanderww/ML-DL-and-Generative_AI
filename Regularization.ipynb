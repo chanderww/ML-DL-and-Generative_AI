{
 "cells": [
  {
   "cell_type": "code",
   "execution_count": 1,
   "metadata": {},
   "outputs": [
    {
     "data": {
      "text/plain": [
       "<Figure size 640x480 with 1 Axes>"
      ]
     },
     "metadata": {},
     "output_type": "display_data"
    }
   ],
   "source": [
    "import pandas as pd\n",
    "import numpy as np\n",
    "import matplotlib.pyplot as plt\n",
    "from sklearn.pipeline import make_pipeline\n",
    "from sklearn.linear_model import LinearRegression\n",
    "from sklearn.model_selection import train_test_split\n",
    "from sklearn.metrics import mean_squared_error\n",
    "from sklearn.preprocessing import PolynomialFeatures\n",
    "from sklearn.linear_model import Ridge\n",
    "from sklearn.model_selection import KFold\n",
    "from sklearn.model_selection import ShuffleSplit\n",
    "\n",
    "with open(\"copper-new.txt\") as f:\n",
    "    lines = [line.lstrip().rstrip().split('  ') for line in f]\n",
    "array_lines = np.array(lines)\n",
    "\n",
    "data = pd.DataFrame(lines)\n",
    "\n",
    "data.columns = ['y', 'x']         \n",
    "new_x = np.array([float(i) for i in data['x'].values]).reshape(-1,1)    # x: temperature\n",
    "new_y = np.array([float(i) for i in data['y'].values]).reshape(-1,1)   # y: coefficient\n",
    "plt.xlabel(\"Temperature\")      \n",
    "plt.ylabel(\"Coefficient\")\n",
    "plt.scatter(new_x, new_y)\n",
    "plt.show()"
   ]
  },
  {
   "cell_type": "code",
   "execution_count": 2,
   "metadata": {},
   "outputs": [
    {
     "data": {
      "text/html": [
       "<div>\n",
       "<style scoped>\n",
       "    .dataframe tbody tr th:only-of-type {\n",
       "        vertical-align: middle;\n",
       "    }\n",
       "\n",
       "    .dataframe tbody tr th {\n",
       "        vertical-align: top;\n",
       "    }\n",
       "\n",
       "    .dataframe thead th {\n",
       "        text-align: right;\n",
       "    }\n",
       "</style>\n",
       "<table border=\"1\" class=\"dataframe\">\n",
       "  <thead>\n",
       "    <tr style=\"text-align: right;\">\n",
       "      <th></th>\n",
       "      <th>y</th>\n",
       "      <th>x</th>\n",
       "    </tr>\n",
       "  </thead>\n",
       "  <tbody>\n",
       "    <tr>\n",
       "      <th>0</th>\n",
       "      <td>0.5910</td>\n",
       "      <td>24.4100</td>\n",
       "    </tr>\n",
       "    <tr>\n",
       "      <th>1</th>\n",
       "      <td>4.7030</td>\n",
       "      <td>54.9800</td>\n",
       "    </tr>\n",
       "  </tbody>\n",
       "</table>\n",
       "</div>"
      ],
      "text/plain": [
       "        y         x\n",
       "0  0.5910   24.4100\n",
       "1  4.7030   54.9800"
      ]
     },
     "execution_count": 2,
     "metadata": {},
     "output_type": "execute_result"
    }
   ],
   "source": [
    "data.head(2)"
   ]
  },
  {
   "cell_type": "code",
   "execution_count": 3,
   "metadata": {},
   "outputs": [
    {
     "name": "stdout",
     "output_type": "stream",
     "text": [
      "(47, 1) (12, 1) (47, 1) (12, 1)\n",
      "Coef = [[0.02209217]]\n",
      "Intercept = [6.82866852]\n",
      "MSE is 5.011\n"
     ]
    }
   ],
   "source": [
    "# Linear Regression\n",
    "# Get the train and test data split\n",
    "x_train, x_test, y_train, y_test = train_test_split(new_x, new_y, test_size=0.2, random_state=1)\n",
    "print(x_train.shape, x_test.shape, y_train.shape, y_test.shape)\n",
    "\n",
    "lm = LinearRegression().fit(x_train, y_train)\n",
    "score = lm.score(x_train, y_train)\n",
    "#print('Score =', score)\n",
    "print('Coef =', lm.coef_)\n",
    "print('Intercept =', lm.intercept_)\n",
    "\n",
    "y_pred = lm.predict(x_test)\n",
    "mse = mean_squared_error(y_test, y_pred)\n",
    "print('MSE is {0:.3f}'.format(mse))"
   ]
  },
  {
   "cell_type": "code",
   "execution_count": 4,
   "metadata": {},
   "outputs": [
    {
     "data": {
      "text/plain": [
       "[<matplotlib.lines.Line2D at 0x20f307b29c8>]"
      ]
     },
     "execution_count": 4,
     "metadata": {},
     "output_type": "execute_result"
    },
    {
     "data": {
      "image/png": "[encoded data removed]",
      "text/plain": [
       "<Figure size 432x288 with 1 Axes>"
      ]
     },
     "metadata": {
      "needs_background": "light"
     },
     "output_type": "display_data"
    }
   ],
   "source": [
    "# Plot linear regression \n",
    "plt.xlabel(\"Temperature\")\n",
    "plt.ylabel(\"Coefficient\")\n",
    "plt.scatter(new_x, new_y)\n",
    "plt.plot(new_x, lm.predict(new_x), color='r')"
   ]
  },
  {
   "cell_type": "code",
   "execution_count": 31,
   "metadata": {},
   "outputs": [
    {
     "name": "stdout",
     "output_type": "stream",
     "text": [
      "MSE is:  [1.39304784e+01 5.01054782e+00 4.87842715e+00 1.49973354e+00\n",
      " 3.76010070e-01 7.27316547e-02 6.43661749e-02 5.91783311e-02\n",
      " 3.94255783e-02 2.37050128e-02 8.48593885e-03 1.40671989e-02]\n",
      "Best degree is:  10\n",
      "MSE of degree(10) is: is 0.008\n"
     ]
    },
    {
     "name": "stderr",
     "output_type": "stream",
     "text": [
      "C:\\Users\\wuguo\\Anaconda3\\lib\\site-packages\\sklearn\\linear_model\\ridge.py:147: LinAlgWarning: Ill-conditioned matrix (rcond=9.31068e-19): result may not be accurate.\n",
      "  overwrite_a=True).T\n",
      "C:\\Users\\wuguo\\Anaconda3\\lib\\site-packages\\sklearn\\linear_model\\ridge.py:147: LinAlgWarning: Ill-conditioned matrix (rcond=1.42099e-24): result may not be accurate.\n",
      "  overwrite_a=True).T\n",
      "C:\\Users\\wuguo\\Anaconda3\\lib\\site-packages\\sklearn\\linear_model\\ridge.py:147: LinAlgWarning: Ill-conditioned matrix (rcond=2.11235e-30): result may not be accurate.\n",
      "  overwrite_a=True).T\n",
      "C:\\Users\\wuguo\\Anaconda3\\lib\\site-packages\\sklearn\\linear_model\\ridge.py:147: LinAlgWarning: Ill-conditioned matrix (rcond=3.07884e-36): result may not be accurate.\n",
      "  overwrite_a=True).T\n",
      "C:\\Users\\wuguo\\Anaconda3\\lib\\site-packages\\sklearn\\linear_model\\ridge.py:147: LinAlgWarning: Ill-conditioned matrix (rcond=4.42322e-42): result may not be accurate.\n",
      "  overwrite_a=True).T\n",
      "C:\\Users\\wuguo\\Anaconda3\\lib\\site-packages\\sklearn\\linear_model\\ridge.py:147: LinAlgWarning: Ill-conditioned matrix (rcond=6.28795e-48): result may not be accurate.\n",
      "  overwrite_a=True).T\n",
      "C:\\Users\\wuguo\\Anaconda3\\lib\\site-packages\\sklearn\\linear_model\\ridge.py:147: LinAlgWarning: Ill-conditioned matrix (rcond=8.86982e-54): result may not be accurate.\n",
      "  overwrite_a=True).T\n",
      "C:\\Users\\wuguo\\Anaconda3\\lib\\site-packages\\sklearn\\linear_model\\ridge.py:147: LinAlgWarning: Ill-conditioned matrix (rcond=1.24404e-59): result may not be accurate.\n",
      "  overwrite_a=True).T\n",
      "C:\\Users\\wuguo\\Anaconda3\\lib\\site-packages\\sklearn\\linear_model\\ridge.py:147: LinAlgWarning: Ill-conditioned matrix (rcond=1.7374e-65): result may not be accurate.\n",
      "  overwrite_a=True).T\n"
     ]
    },
    {
     "data": {
      "image/png": "[encoded data removed]",
      "text/plain": [
       "<Figure size 432x288 with 1 Axes>"
      ]
     },
     "metadata": {
      "needs_background": "light"
     },
     "output_type": "display_data"
    }
   ],
   "source": [
    "# Q2(2) Optimization with different degree\n",
    "t1_error = np.empty(12)\n",
    "for degree in range(12):\n",
    "    est = make_pipeline(PolynomialFeatures(degree),  Ridge())\n",
    "    est.fit(x_train, y_train)\n",
    "    t1_error[degree] = mean_squared_error(y_test, est.predict(x_test))\n",
    "print(\"MSE is: \", t1_error)\n",
    "mse1 = t1_error[np.argmin(t1_error)] \n",
    "print('Best degree is: ', np.argmin(t1_error))\n",
    "print('MSE of degree(10) is: is {0:.3f}'.format(mse1))\n",
    "\n",
    "# Plot\n",
    "plt.plot(range(12), t1_error, '-o')\n",
    "plt.scatter(np.argmin(t1_error), t1_error[np.argmin(t1_error)], 150, color='none', edgecolors='red')\n",
    "plt.xlabel(\"Degrees\")\n",
    "plt.ylabel(\"MSE\")\n",
    "plt.show()"
   ]
  },
  {
   "cell_type": "code",
   "execution_count": 55,
   "metadata": {},
   "outputs": [
    {
     "name": "stderr",
     "output_type": "stream",
     "text": [
      "C:\\Users\\wuguo\\Anaconda3\\lib\\site-packages\\sklearn\\linear_model\\ridge.py:147: LinAlgWarning: Ill-conditioned matrix (rcond=8.65842e-19): result may not be accurate.\n",
      "  overwrite_a=True).T\n",
      "C:\\Users\\wuguo\\Anaconda3\\lib\\site-packages\\sklearn\\linear_model\\ridge.py:147: LinAlgWarning: Ill-conditioned matrix (rcond=2.04871e-30): result may not be accurate.\n",
      "  overwrite_a=True).T\n",
      "C:\\Users\\wuguo\\Anaconda3\\lib\\site-packages\\sklearn\\linear_model\\ridge.py:147: LinAlgWarning: Ill-conditioned matrix (rcond=1.22621e-59): result may not be accurate.\n",
      "  overwrite_a=True).T\n"
     ]
    },
    {
     "data": {
      "image/png": "[encoded data removed]",
      "text/plain": [
       "<Figure size 432x288 with 1 Axes>"
      ]
     },
     "metadata": {
      "needs_background": "light"
     },
     "output_type": "display_data"
    }
   ],
   "source": [
    "# Plot \n",
    "plt.xlabel(\"Temperature\")\n",
    "plt.ylabel(\"Coefficient\")\n",
    "plt.scatter(new_x, new_y, color='red')\n",
    "\n",
    "colors = ['purple','blue', 'green', 'yellow']\n",
    "\n",
    "for count, degree in enumerate([2,3,5,10]):\n",
    "    model = make_pipeline(PolynomialFeatures(degree), Ridge())\n",
    "    model.fit(new_x, new_y)\n",
    "    y_plot = model.predict(new_x)    \n",
    "    plt.scatter(new_x, y_plot, color=colors[count], s=10, label=\"degree %d\" % degree)\n",
    "plt.legend(loc='lower right')\n",
    "plt.show()"
   ]
  },
  {
   "cell_type": "code",
   "execution_count": 64,
   "metadata": {},
   "outputs": [
    {
     "name": "stdout",
     "output_type": "stream",
     "text": [
      "Split of train and test = 47 : 12\n",
      "Split of train and test = 47 : 12\n",
      "Split of train and test = 47 : 12\n",
      "Split of train and test = 47 : 12\n",
      "Split of train and test = 47 : 12\n",
      "MSE is:  [0.02319159 0.02270547 0.02248625 0.02293146 0.02303855 0.02267693\n",
      " 0.02280944 0.02303572 0.02282485 0.02365687 0.0282252  0.03806449\n",
      " 0.04102378 0.04075853 0.03652265 0.08699431 0.29602072 0.35331076\n",
      " 0.36332727 0.44267993]\n",
      "No. of minimal MSE is:  2\n",
      "Best alpha is:  1.274274985703132e-08\n",
      "MSE of Best alpha is 0.022\n"
     ]
    },
    {
     "name": "stderr",
     "output_type": "stream",
     "text": [
      "C:\\Users\\wuguo\\Anaconda3\\lib\\site-packages\\sklearn\\linear_model\\ridge.py:147: LinAlgWarning: Ill-conditioned matrix (rcond=1.2434e-69): result may not be accurate.\n",
      "  overwrite_a=True).T\n",
      "C:\\Users\\wuguo\\Anaconda3\\lib\\site-packages\\sklearn\\linear_model\\ridge.py:147: LinAlgWarning: Ill-conditioned matrix (rcond=1.4036e-68): result may not be accurate.\n",
      "  overwrite_a=True).T\n",
      "C:\\Users\\wuguo\\Anaconda3\\lib\\site-packages\\sklearn\\linear_model\\ridge.py:147: LinAlgWarning: Ill-conditioned matrix (rcond=1.58444e-67): result may not be accurate.\n",
      "  overwrite_a=True).T\n",
      "C:\\Users\\wuguo\\Anaconda3\\lib\\site-packages\\sklearn\\linear_model\\ridge.py:147: LinAlgWarning: Ill-conditioned matrix (rcond=1.78857e-66): result may not be accurate.\n",
      "  overwrite_a=True).T\n",
      "C:\\Users\\wuguo\\Anaconda3\\lib\\site-packages\\sklearn\\linear_model\\ridge.py:147: LinAlgWarning: Ill-conditioned matrix (rcond=2.01901e-65): result may not be accurate.\n",
      "  overwrite_a=True).T\n",
      "C:\\Users\\wuguo\\Anaconda3\\lib\\site-packages\\sklearn\\linear_model\\ridge.py:147: LinAlgWarning: Ill-conditioned matrix (rcond=2.27913e-64): result may not be accurate.\n",
      "  overwrite_a=True).T\n",
      "C:\\Users\\wuguo\\Anaconda3\\lib\\site-packages\\sklearn\\linear_model\\ridge.py:147: LinAlgWarning: Ill-conditioned matrix (rcond=2.57277e-63): result may not be accurate.\n",
      "  overwrite_a=True).T\n",
      "C:\\Users\\wuguo\\Anaconda3\\lib\\site-packages\\sklearn\\linear_model\\ridge.py:147: LinAlgWarning: Ill-conditioned matrix (rcond=2.90424e-62): result may not be accurate.\n",
      "  overwrite_a=True).T\n",
      "C:\\Users\\wuguo\\Anaconda3\\lib\\site-packages\\sklearn\\linear_model\\ridge.py:147: LinAlgWarning: Ill-conditioned matrix (rcond=3.27842e-61): result may not be accurate.\n",
      "  overwrite_a=True).T\n",
      "C:\\Users\\wuguo\\Anaconda3\\lib\\site-packages\\sklearn\\linear_model\\ridge.py:147: LinAlgWarning: Ill-conditioned matrix (rcond=3.7008e-60): result may not be accurate.\n",
      "  overwrite_a=True).T\n",
      "C:\\Users\\wuguo\\Anaconda3\\lib\\site-packages\\sklearn\\linear_model\\ridge.py:147: LinAlgWarning: Ill-conditioned matrix (rcond=4.1776e-59): result may not be accurate.\n",
      "  overwrite_a=True).T\n",
      "C:\\Users\\wuguo\\Anaconda3\\lib\\site-packages\\sklearn\\linear_model\\ridge.py:147: LinAlgWarning: Ill-conditioned matrix (rcond=4.71584e-58): result may not be accurate.\n",
      "  overwrite_a=True).T\n",
      "C:\\Users\\wuguo\\Anaconda3\\lib\\site-packages\\sklearn\\linear_model\\ridge.py:147: LinAlgWarning: Ill-conditioned matrix (rcond=5.28772e-57): result may not be accurate.\n",
      "  overwrite_a=True).T\n",
      "C:\\Users\\wuguo\\Anaconda3\\lib\\site-packages\\sklearn\\linear_model\\ridge.py:147: LinAlgWarning: Ill-conditioned matrix (rcond=5.88192e-56): result may not be accurate.\n",
      "  overwrite_a=True).T\n",
      "C:\\Users\\wuguo\\Anaconda3\\lib\\site-packages\\sklearn\\linear_model\\ridge.py:147: LinAlgWarning: Ill-conditioned matrix (rcond=6.7835e-55): result may not be accurate.\n",
      "  overwrite_a=True).T\n",
      "C:\\Users\\wuguo\\Anaconda3\\lib\\site-packages\\sklearn\\linear_model\\ridge.py:147: LinAlgWarning: Ill-conditioned matrix (rcond=7.65747e-54): result may not be accurate.\n",
      "  overwrite_a=True).T\n",
      "C:\\Users\\wuguo\\Anaconda3\\lib\\site-packages\\sklearn\\linear_model\\ridge.py:147: LinAlgWarning: Ill-conditioned matrix (rcond=8.64404e-53): result may not be accurate.\n",
      "  overwrite_a=True).T\n",
      "C:\\Users\\wuguo\\Anaconda3\\lib\\site-packages\\sklearn\\linear_model\\ridge.py:147: LinAlgWarning: Ill-conditioned matrix (rcond=9.63946e-52): result may not be accurate.\n",
      "  overwrite_a=True).T\n",
      "C:\\Users\\wuguo\\Anaconda3\\lib\\site-packages\\sklearn\\linear_model\\ridge.py:147: LinAlgWarning: Ill-conditioned matrix (rcond=1.07983e-50): result may not be accurate.\n",
      "  overwrite_a=True).T\n",
      "C:\\Users\\wuguo\\Anaconda3\\lib\\site-packages\\sklearn\\linear_model\\ridge.py:147: LinAlgWarning: Ill-conditioned matrix (rcond=1.2434e-49): result may not be accurate.\n",
      "  overwrite_a=True).T\n"
     ]
    },
    {
     "data": {
      "image/png": "[encoded data removed]",
      "text/plain": [
       "<Figure size 432x288 with 1 Axes>"
      ]
     },
     "metadata": {
      "needs_background": "light"
     },
     "output_type": "display_data"
    }
   ],
   "source": [
    "# Optimization with different alpha\n",
    "#Samples are first shuffled and then split into a pair of train and test sets.\n",
    "from sklearn.model_selection import KFold\n",
    "ss = ShuffleSplit(n_splits=5, test_size=0.2, random_state=0)\n",
    "for xx, yy in ss.split(data):\n",
    "    print('Split of train and test =', len(xx),\":\",len(yy))\n",
    "\n",
    "xx_train = new_x[xx]\n",
    "xx_test = new_x[yy]\n",
    "yy_train = new_y[xx]\n",
    "yy_test = new_y[yy]\n",
    "\n",
    "t2_error = np.zeros(20)\n",
    "degree = 10\n",
    "alphas = np.logspace(-10, 10, 20)\n",
    "for i in range(len(alphas)):\n",
    "    est = make_pipeline(PolynomialFeatures(degree), Ridge(alphas[i]))   # normalize=True\n",
    "    est.fit(xx_train, yy_train)\n",
    "    t2_error[i] = mean_squared_error(yy_test, est.predict(xx_test))\n",
    "print(\"MSE is: \", t2_error)\n",
    "\n",
    "mse2 = t2_error[np.argmin(t2_error)] \n",
    "a = alphas[np.argmin(t2_error)]\n",
    "print('No. of minimal MSE is: ', np.argmin(t2_error))\n",
    "print('Best alpha is: ', a)\n",
    "print('MSE of Best alpha is {0:.3f}'.format(mse2))\n",
    "\n",
    "# Plot\n",
    "plt.plot(range(20), t2_error, '-o')\n",
    "plt.scatter(np.argmin(t2_error), t2_error[np.argmin(t2_error)], 250, color='none', edgecolors='red')\n",
    "plt.xlabel(\"No.\")\n",
    "plt.ylabel(\"MSE\")\n",
    "plt.show()"
   ]
  },
  {
   "cell_type": "code",
   "execution_count": 34,
   "metadata": {},
   "outputs": [
    {
     "name": "stdout",
     "output_type": "stream",
     "text": [
      "Prediciton with linear model is:  [[15.6655352]]\n"
     ]
    }
   ],
   "source": [
    "# (4) Prediction of coefficient with 400 degree Kelvin using above model\n",
    "# (a). Prediction with Linear model model\n",
    "print(\"Prediciton with linear model is: \", lm.predict([[400]]))"
   ]
  },
  {
   "cell_type": "code",
   "execution_count": 63,
   "metadata": {},
   "outputs": [
    {
     "name": "stderr",
     "output_type": "stream",
     "text": [
      "C:\\Users\\wuguo\\Anaconda3\\lib\\site-packages\\sklearn\\linear_model\\ridge.py:147: LinAlgWarning: Ill-conditioned matrix (rcond=1.24404e-59): result may not be accurate.\n",
      "  overwrite_a=True).T\n"
     ]
    },
    {
     "data": {
      "text/plain": [
       "array([[17.49274293]])"
      ]
     },
     "execution_count": 63,
     "metadata": {},
     "output_type": "execute_result"
    }
   ],
   "source": [
    "#(b). Prediction with Polynomial with best degreee and ridge()     \n",
    "est = make_pipeline(PolynomialFeatures(degree=10),  Ridge())\n",
    "est.fit(x_train, y_train)\n",
    "est.predict([[400]])"
   ]
  },
  {
   "cell_type": "code",
   "execution_count": 53,
   "metadata": {},
   "outputs": [
    {
     "name": "stderr",
     "output_type": "stream",
     "text": [
      "C:\\Users\\wuguo\\Anaconda3\\lib\\site-packages\\sklearn\\linear_model\\ridge.py:147: LinAlgWarning: Ill-conditioned matrix (rcond=1.58444e-67): result may not be accurate.\n",
      "  overwrite_a=True).T\n"
     ]
    },
    {
     "data": {
      "text/plain": [
       "array([[17.51828854]])"
      ]
     },
     "execution_count": 53,
     "metadata": {},
     "output_type": "execute_result"
    }
   ],
   "source": [
    "# For best mse after optimization\n",
    "poly_ridge = make_pipeline(PolynomialFeatures(10), Ridge(alpha=a))\n",
    "poly_ridge.fit(xx_train, yy_train)\n",
    "poly_ridge.predict([[400]])"
   ]
  },
  {
   "cell_type": "code",
   "execution_count": null,
   "metadata": {},
   "outputs": [],
   "source": []
  }
 ],
 "metadata": {
  "kernelspec": {
   "display_name": "Python 3",
   "language": "python",
   "name": "python3"
  },
  "language_info": {
   "codemirror_mode": {
    "name": "ipython",
    "version": 3
   },
   "file_extension": ".py",
   "mimetype": "text/x-python",
   "name": "python",
   "nbconvert_exporter": "python",
   "pygments_lexer": "ipython3",
   "version": "3.7.5"
  },
  "toc": {
   "base_numbering": 1,
   "nav_menu": {},
   "number_sections": true,
   "sideBar": true,
   "skip_h1_title": false,
   "title_cell": "Table of Contents",
   "title_sidebar": "Contents",
   "toc_cell": false,
   "toc_position": {},
   "toc_section_display": true,
   "toc_window_display": false
  },
  "varInspector": {
   "cols": {
    "lenName": 16,
    "lenType": 16,
    "lenVar": 40
   },
   "kernels_config": {
    "python": {
     "delete_cmd_postfix": "",
     "delete_cmd_prefix": "del ",
     "library": "var_list.py",
     "varRefreshCmd": "print(var_dic_list())"
    },
    "r": {
     "delete_cmd_postfix": ") ",
     "delete_cmd_prefix": "rm(",
     "library": "var_list.r",
     "varRefreshCmd": "cat(var_dic_list()) "
    }
   },
   "types_to_exclude": [
    "module",
    "function",
    "builtin_function_or_method",
    "instance",
    "_Feature"
   ],
   "window_display": false
  }
 },
 "nbformat": 4,
 "nbformat_minor": 2
}
